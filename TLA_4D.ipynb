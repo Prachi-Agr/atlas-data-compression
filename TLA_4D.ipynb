{
 "cells": [
  {
   "cell_type": "markdown",
   "metadata": {},
   "source": [
    "## Look into the dataset"
   ]
  },
  {
   "cell_type": "markdown",
   "metadata": {},
   "source": [
    "First we need to make sure that Python 3.8 is used in the notebook"
   ]
  },
  {
   "cell_type": "code",
   "execution_count": 16,
   "metadata": {},
   "outputs": [
    {
     "data": {
      "text/plain": [
       "'3.8.8 (default, Feb 24 2021, 15:54:32) [MSC v.1928 64 bit (AMD64)]'"
      ]
     },
     "execution_count": 16,
     "metadata": {},
     "output_type": "execute_result"
    }
   ],
   "source": [
    "import sys\n",
    "sys.version"
   ]
  },
  {
   "cell_type": "markdown",
   "metadata": {},
   "source": [
    "We take 4D data generated from the event level data provided."
   ]
  },
  {
   "cell_type": "code",
   "execution_count": 17,
   "metadata": {},
   "outputs": [],
   "source": [
    "import pandas as pd \n",
    "import numpy as np\n",
    "import sklearn\n",
    "data_path=r'C:\\Users\\prach\\OneDrive\\Documents\\Projects\\gsoc_cern-hsf\\4d_data.csv'\n",
    "df=pd.read_csv(data_path)\n",
    "df_obj=df[[ \"E\", \"pt\", \"eta\", \"phi\"]]"
   ]
  },
  {
   "cell_type": "code",
   "execution_count": 18,
   "metadata": {},
   "outputs": [
    {
     "name": "stderr",
     "output_type": "stream",
     "text": [
      "<ipython-input-18-f0aa099a7d0b>:2: SettingWithCopyWarning: \n",
      "A value is trying to be set on a copy of a slice from a DataFrame.\n",
      "Try using .loc[row_indexer,col_indexer] = value instead\n",
      "\n",
      "See the caveats in the documentation: https://pandas.pydata.org/pandas-docs/stable/user_guide/indexing.html#returning-a-view-versus-a-copy\n",
      "  df['eta'] = df['eta']/5\n",
      "<ipython-input-18-f0aa099a7d0b>:3: SettingWithCopyWarning: \n",
      "A value is trying to be set on a copy of a slice from a DataFrame.\n",
      "Try using .loc[row_indexer,col_indexer] = value instead\n",
      "\n",
      "See the caveats in the documentation: https://pandas.pydata.org/pandas-docs/stable/user_guide/indexing.html#returning-a-view-versus-a-copy\n",
      "  df['phi'] = df['phi']/3\n",
      "<ipython-input-18-f0aa099a7d0b>:4: SettingWithCopyWarning: \n",
      "A value is trying to be set on a copy of a slice from a DataFrame.\n",
      "Try using .loc[row_indexer,col_indexer] = value instead\n",
      "\n",
      "See the caveats in the documentation: https://pandas.pydata.org/pandas-docs/stable/user_guide/indexing.html#returning-a-view-versus-a-copy\n",
      "  df['E'] = np.log10(df['E'])\n",
      "<ipython-input-18-f0aa099a7d0b>:5: SettingWithCopyWarning: \n",
      "A value is trying to be set on a copy of a slice from a DataFrame.\n",
      "Try using .loc[row_indexer,col_indexer] = value instead\n",
      "\n",
      "See the caveats in the documentation: https://pandas.pydata.org/pandas-docs/stable/user_guide/indexing.html#returning-a-view-versus-a-copy\n",
      "  df['pt'] = np.log10(df['pt'])\n"
     ]
    }
   ],
   "source": [
    "def normalize(df):\n",
    "    df['eta'] = df['eta']/5\n",
    "    df['phi'] = df['phi']/3\n",
    "    df['E'] = np.log10(df['E'])\n",
    "    df['pt'] = np.log10(df['pt'])\n",
    "    return df\n",
    "df_obj=normalize(df_obj)"
   ]
  },
  {
   "cell_type": "code",
   "execution_count": 19,
   "metadata": {},
   "outputs": [
    {
     "name": "stdout",
     "output_type": "stream",
     "text": [
      "Training sample:\n",
      "              E        pt       eta       phi\n",
      "1047   4.906713  4.700341 -0.209428 -0.590943\n",
      "21728  6.347139  5.855345  0.359682 -1.025347\n",
      "6561   5.997825  5.637058  0.294436 -0.623413\n",
      "19860  5.372660  4.761313  0.416874  0.697643\n",
      "10042  5.797168  5.707606 -0.130892  0.219345\n",
      "\n",
      "\n",
      "Testing sample:\n",
      "              E        pt       eta       phi\n",
      "447    5.154570  4.361824 -0.502360  0.611330\n",
      "15994  5.669887  5.194112  0.351552 -0.487810\n",
      "14844  5.136172  4.816144 -0.273020  0.025235\n",
      "134    5.028673  4.574284  0.341054 -0.929800\n",
      "13119  6.243935  4.664594 -0.865906 -0.803610\n",
      "\n",
      "\n",
      "The number of entries in the training data: 18128\n",
      "The number of entries in the validation data: 4533\n"
     ]
    }
   ],
   "source": [
    "from sklearn.model_selection import train_test_split\n",
    "\n",
    "train, test = train_test_split(df_obj, test_size=0.2, random_state=42, shuffle=True)\n",
    "\n",
    "# To get an idea of the order of magnitude we are going to see in the plots we show the first elements \n",
    "# in the samples:\n",
    "print('Training sample:')\n",
    "print(train.head())\n",
    "\n",
    "print('\\n')\n",
    "\n",
    "print('Testing sample:')\n",
    "print(test.head())\n",
    "\n",
    "print('\\n')\n",
    "\n",
    "print('The number of entries in the training data:', len(train))\n",
    "print('The number of entries in the validation data:', len(test))"
   ]
  },
  {
   "cell_type": "markdown",
   "metadata": {},
   "source": [
    "Now we plot the data using the matplotlib library."
   ]
  },
  {
   "cell_type": "code",
   "execution_count": 20,
   "metadata": {},
   "outputs": [
    {
     "data": {
      "image/png": "[encoded data removed]",
      "text/plain": [
       "<Figure size 432x288 with 1 Axes>"
      ]
     },
     "metadata": {
      "needs_background": "light"
     },
     "output_type": "display_data"
    },
    {
     "data": {
      "image/png": "[encoded data removed]",
      "text/plain": [
       "<Figure size 432x288 with 1 Axes>"
      ]
     },
     "metadata": {
      "needs_background": "light"
     },
     "output_type": "display_data"
    },
    {
     "data": {
      "image/png": "[encoded data removed]",
      "text/plain": [
       "<Figure size 432x288 with 1 Axes>"
      ]
     },
     "metadata": {
      "needs_background": "light"
     },
     "output_type": "display_data"
    },
    {
     "data": {
      "image/png": "[encoded data removed]",
      "text/plain": [
       "<Figure size 432x288 with 1 Axes>"
      ]
     },
     "metadata": {
      "needs_background": "light"
     },
     "output_type": "display_data"
    }
   ],
   "source": [
    "import matplotlib.pyplot as plt\n",
    "\n",
    "#unit_list = ['[log(GeV)]', '[rad/3]', '[rad/3]', '[log(GeV)]']\n",
    "#Note: Avoided mentioning units because units of E not known\n",
    "variable_list = [r'$E$',r'$p_T$', r'$\\eta$', r'$\\phi$']\n",
    "\n",
    "branches=[\"E\",\"pt\",\"eta\",\"phi\"]\n",
    "\n",
    "n_bins = 100\n",
    "\n",
    "for kk in range(0,4):\n",
    "    n_hist_data, bin_edges, _ = plt.hist(train[branches[kk]], color='gray', label='Input', alpha=1, bins=n_bins)\n",
    "    # plt.xlabel(xlabel=variable_list[kk] + ' ' + unit_list[kk])\n",
    "    plt.xlabel(xlabel=variable_list[kk])\n",
    "    plt.ylabel('# of jets')\n",
    "    #plt.savefig(\"fourmomentum_\"+branches[kk],dpi=300)\n",
    "    plt.show()"
   ]
  },
  {
   "cell_type": "markdown",
   "metadata": {},
   "source": [
    "## Setting up the network"
   ]
  },
  {
   "cell_type": "markdown",
   "metadata": {},
   "source": [
    "### Preparing the data"
   ]
  },
  {
   "cell_type": "markdown",
   "metadata": {},
   "source": [
    "Adding the two datasets as TensorDatasets to PyTorch (also loading all other classes we'll need later)"
   ]
  },
  {
   "cell_type": "code",
   "execution_count": 21,
   "metadata": {},
   "outputs": [],
   "source": [
    "import torch\n",
    "import torch.nn as nn\n",
    "import torch.optim as optim\n",
    "import torch.utils.data\n",
    "from torch.autograd import Variable\n",
    "\n",
    "from torch.utils.data import TensorDataset\n",
    "from torch.utils.data import DataLoader\n",
    "\n",
    "from fastai import learner\n",
    "from fastai.data import core\n",
    "\n",
    "train_x = train\n",
    "test_x = test\n",
    "train_y = train_x  # y = x since we are building an autoencoder\n",
    "test_y = test_x\n",
    "\n",
    "# Constructs a tensor object of the data and wraps them in a TensorDataset object.\n",
    "train_ds = TensorDataset(torch.tensor(train_x.values, dtype=torch.float), torch.tensor(train_y.values, dtype=torch.float))\n",
    "valid_ds = TensorDataset(torch.tensor(test_x.values, dtype=torch.float), torch.tensor(test_y.values, dtype=torch.float))"
   ]
  },
  {
   "cell_type": "code",
   "execution_count": 22,
   "metadata": {},
   "outputs": [],
   "source": [
    "bs = 256\n",
    "\n",
    "# Converts the TensorDataset into a DataLoader object and combines into one DataLoaders object (a basic wrapper\n",
    "# around several DataLoader objects). \n",
    "train_dl = DataLoader(train_ds, batch_size=bs, shuffle=True)\n",
    "valid_dl = DataLoader(valid_ds, batch_size=bs * 2)\n",
    "dls = core.DataLoaders(train_dl, valid_dl)"
   ]
  },
  {
   "cell_type": "markdown",
   "metadata": {},
   "source": [
    "### Preparing the network"
   ]
  },
  {
   "cell_type": "markdown",
   "metadata": {},
   "source": [
    "Here we have an example network. Details aren't too important, as long as they match what was already trained for us...in this case we have a LeakyReLU, tanh activation function, and a number of layers that goes from 4 to 200 to 20 to 3 (number of features in the hidden layer that we pick for testing compression) and then back all the way to 4. "
   ]
  },
  {
   "cell_type": "code",
   "execution_count": 23,
   "metadata": {},
   "outputs": [
    {
     "data": {
      "text/plain": [
       "AE_3D_200_LeakyReLU(\n",
       "  (en1): Linear(in_features=4, out_features=200, bias=True)\n",
       "  (en2): Linear(in_features=200, out_features=200, bias=True)\n",
       "  (en3): Linear(in_features=200, out_features=20, bias=True)\n",
       "  (en4): Linear(in_features=20, out_features=3, bias=True)\n",
       "  (de1): Linear(in_features=3, out_features=20, bias=True)\n",
       "  (de2): Linear(in_features=20, out_features=200, bias=True)\n",
       "  (de3): Linear(in_features=200, out_features=200, bias=True)\n",
       "  (de4): Linear(in_features=200, out_features=4, bias=True)\n",
       "  (tanh): Tanh()\n",
       ")"
      ]
     },
     "execution_count": 23,
     "metadata": {},
     "output_type": "execute_result"
    }
   ],
   "source": [
    "class AE_3D_200_LeakyReLU(nn.Module):\n",
    "    def __init__(self, n_features=4):\n",
    "        super(AE_3D_200_LeakyReLU, self).__init__()\n",
    "        self.en1 = nn.Linear(n_features, 200)\n",
    "        self.en2 = nn.Linear(200, 200)\n",
    "        self.en3 = nn.Linear(200, 20)\n",
    "        self.en4 = nn.Linear(20, 3)\n",
    "        self.de1 = nn.Linear(3, 20)\n",
    "        self.de2 = nn.Linear(20, 200)\n",
    "        self.de3 = nn.Linear(200, 200)\n",
    "        self.de4 = nn.Linear(200, n_features)\n",
    "        self.tanh = nn.Tanh()\n",
    "\n",
    "    def encode(self, x):\n",
    "        return self.en4(self.tanh(self.en3(self.tanh(self.en2(self.tanh(self.en1(x)))))))\n",
    "\n",
    "    def decode(self, x):\n",
    "        return self.de4(self.tanh(self.de3(self.tanh(self.de2(self.tanh(self.de1(self.tanh(x))))))))\n",
    "\n",
    "    def forward(self, x):\n",
    "        z = self.encode(x)\n",
    "        return self.decode(z)\n",
    "\n",
    "    def describe(self):\n",
    "        return 'in-200-200-20-3-20-200-200-out'\n",
    "\n",
    "#model = AE_3D_200_LeakyReLU().double()\n",
    "model = AE_3D_200_LeakyReLU()\n",
    "model.to('cpu')"
   ]
  },
  {
   "cell_type": "markdown",
   "metadata": {},
   "source": [
    "We now have to pick a loss function - MSE loss is appropriate for a compression autoencoder since it reflects the [(input-output)/input] physical quantity that we want to minimize. "
   ]
  },
  {
   "cell_type": "code",
   "execution_count": 24,
   "metadata": {},
   "outputs": [],
   "source": [
    "from fastai.metrics import mse\n",
    "\n",
    "loss_func = nn.MSELoss()\n",
    "\n",
    "#bn_wd = False  # Don't use weight decay for batchnorm layers\n",
    "#true_wd = True  # weight decay will be used for all optimizers\n",
    "wd = 1e-6\n",
    "\n",
    "recorder = learner.Recorder()\n",
    "learn = learner.Learner(dls, model=model, wd=wd, loss_func=loss_func, cbs=recorder)\n",
    "#was: learn = basic_train.Learner(data=db, model=model, loss_func=loss_func, wd=wd, callback_fns=ActivationStats, bn_wd=bn_wd, true_wd=true_wd)"
   ]
  },
  {
   "cell_type": "markdown",
   "metadata": {},
   "source": [
    "## Training a new network"
   ]
  },
  {
   "cell_type": "markdown",
   "metadata": {},
   "source": [
    "First, we want to find the best learning rate. The learning rate is a hyper-paramater that sets how much the weights of the network will change each step with respect to the loss gradient.\n",
    "\n",
    "Then we plot the loss versus the learning rates. We're interested in finding a good order of magnitude of learning rate, so we plot with a log scale.\n",
    "\n",
    "A good value for the learning rates is then either:\n",
    "- one tenth of the minimum before the divergence\n",
    "- when the slope is the steepest"
   ]
  },
  {
   "cell_type": "code",
   "execution_count": 25,
   "metadata": {},
   "outputs": [
    {
     "name": "stdout",
     "output_type": "stream",
     "text": [
      "Learning rate with the minimum loss: 0.00831763744354248\n",
      "Learning rate with the steepest gradient: 0.0020892962347716093\n"
     ]
    },
    {
     "data": {
      "image/png": "[encoded data removed]",
      "text/plain": [
       "<Figure size 432x288 with 1 Axes>"
      ]
     },
     "metadata": {
      "needs_background": "light"
     },
     "output_type": "display_data"
    }
   ],
   "source": [
    "from fastai.callback import schedule\n",
    "\n",
    "lr_min, lr_steep = learn.lr_find()\n",
    "\n",
    "print('Learning rate with the minimum loss:', lr_min)\n",
    "print('Learning rate with the steepest gradient:', lr_steep)"
   ]
  },
  {
   "cell_type": "markdown",
   "metadata": {},
   "source": [
    "Now we want to run the training!\n",
    "\n",
    "User-chosen variables:\n",
    "- n_epoch: The number of epochs, i.e how many times the to run through all of the training data once (i.e the 1266046 entries, see cell 2)\n",
    "- lr: The learning rate. Either choose lr_min, lr_steep from above or set your own.\n"
   ]
  },
  {
   "cell_type": "code",
   "execution_count": 27,
   "metadata": {},
   "outputs": [
    {
     "name": "stdout",
     "output_type": "stream",
     "text": [
      "[0, 2.076446056365967, 0.4719425141811371, '00:01']\n",
      "[0, 2.076446056365967, 0.4719425141811371, '00:01']\n",
      "[1, 0.603672206401825, 0.23122328519821167, '00:01']\n",
      "[1, 0.603672206401825, 0.23122328519821167, '00:01']\n",
      "[2, 0.31370261311531067, 0.22735340893268585, '00:01']\n",
      "[2, 0.31370261311531067, 0.22735340893268585, '00:01']\n",
      "[3, 0.2473517805337906, 0.22718492150306702, '00:01']\n",
      "[3, 0.2473517805337906, 0.22718492150306702, '00:01']\n",
      "[4, 0.1930607110261917, 0.14199934899806976, '00:01']\n",
      "[4, 0.1930607110261917, 0.14199934899806976, '00:01']\n",
      "[5, 0.13858558237552643, 0.07379216700792313, '00:01']\n",
      "[5, 0.13858558237552643, 0.07379216700792313, '00:01']\n",
      "[6, 0.06456480920314789, 0.03968137130141258, '00:01']\n",
      "[6, 0.06456480920314789, 0.03968137130141258, '00:01']\n",
      "[7, 0.045813385397195816, 0.04376107081770897, '00:01']\n",
      "[7, 0.045813385397195816, 0.04376107081770897, '00:01']\n",
      "[8, 0.04109741002321243, 0.04049982130527496, '00:01']\n",
      "[8, 0.04109741002321243, 0.04049982130527496, '00:01']\n",
      "[9, 0.03257692977786064, 0.024860138073563576, '00:01']\n",
      "[9, 0.03257692977786064, 0.024860138073563576, '00:01']\n",
      "[10, 0.027711961418390274, 0.020915085449814796, '00:01']\n",
      "[10, 0.027711961418390274, 0.020915085449814796, '00:01']\n",
      "[11, 0.02083609066903591, 0.014845961704850197, '00:01']\n",
      "[11, 0.02083609066903591, 0.014845961704850197, '00:01']\n",
      "[12, 0.025921644642949104, 0.027183953672647476, '00:01']\n",
      "[12, 0.025921644642949104, 0.027183953672647476, '00:01']\n",
      "[13, 0.012058391235768795, 0.00842280313372612, '00:01']\n",
      "[13, 0.012058391235768795, 0.00842280313372612, '00:01']\n",
      "[14, 0.010156133212149143, 0.01242185477167368, '00:01']\n",
      "[14, 0.010156133212149143, 0.01242185477167368, '00:01']\n",
      "[15, 0.01158465538173914, 0.03692952170968056, '00:01']\n",
      "[15, 0.01158465538173914, 0.03692952170968056, '00:01']\n",
      "[16, 0.013368586078286171, 0.0032114547211676836, '00:01']\n",
      "[16, 0.013368586078286171, 0.0032114547211676836, '00:01']\n",
      "[17, 0.016042444854974747, 0.004341600928455591, '00:01']\n",
      "[17, 0.016042444854974747, 0.004341600928455591, '00:01']\n",
      "[18, 0.014553100802004337, 0.015001190826296806, '00:01']\n",
      "[18, 0.014553100802004337, 0.015001190826296806, '00:01']\n",
      "[19, 0.012817317619919777, 0.0030079514253884554, '00:01']\n",
      "[19, 0.012817317619919777, 0.0030079514253884554, '00:01']\n",
      "[20, 0.014445511624217033, 0.0411556214094162, '00:01']\n",
      "[20, 0.014445511624217033, 0.0411556214094162, '00:01']\n",
      "[21, 0.014898478053510189, 0.018222376704216003, '00:01']\n",
      "[21, 0.014898478053510189, 0.018222376704216003, '00:01']\n",
      "[22, 0.018548201769590378, 0.007477127946913242, '00:01']\n",
      "[22, 0.018548201769590378, 0.007477127946913242, '00:01']\n",
      "[23, 0.01235225424170494, 0.009679900482296944, '00:01']\n",
      "[23, 0.01235225424170494, 0.009679900482296944, '00:01']\n",
      "[24, 0.026260314509272575, 0.011791001074016094, '00:01']\n",
      "[24, 0.026260314509272575, 0.011791001074016094, '00:01']\n",
      "[25, 0.013316251337528229, 0.008108563721179962, '00:01']\n",
      "[25, 0.013316251337528229, 0.008108563721179962, '00:01']\n",
      "[26, 0.010410729795694351, 0.012465502135455608, '00:01']\n",
      "[26, 0.010410729795694351, 0.012465502135455608, '00:01']\n",
      "[27, 0.010005799122154713, 0.01557009294629097, '00:01']\n",
      "[27, 0.010005799122154713, 0.01557009294629097, '00:01']\n",
      "[28, 0.009893803857266903, 0.010656635276973248, '00:01']\n",
      "[28, 0.009893803857266903, 0.010656635276973248, '00:01']\n",
      "[29, 0.01233384758234024, 0.04673713445663452, '00:01']\n",
      "[29, 0.01233384758234024, 0.04673713445663452, '00:01']\n",
      "[30, 0.008661119267344475, 0.004318774677813053, '00:01']\n",
      "[30, 0.008661119267344475, 0.004318774677813053, '00:01']\n",
      "[31, 0.009295309893786907, 0.005669812206178904, '00:01']\n",
      "[31, 0.009295309893786907, 0.005669812206178904, '00:01']\n",
      "[32, 0.008341891691088676, 0.006952246651053429, '00:01']\n",
      "[32, 0.008341891691088676, 0.006952246651053429, '00:01']\n",
      "[33, 0.0072324699722230434, 0.015311287716031075, '00:01']\n",
      "[33, 0.0072324699722230434, 0.015311287716031075, '00:01']\n",
      "[34, 0.006686150562018156, 0.006528620142489672, '00:01']\n",
      "[34, 0.006686150562018156, 0.006528620142489672, '00:01']\n",
      "[35, 0.007412445265799761, 0.004124344792217016, '00:01']\n",
      "[35, 0.007412445265799761, 0.004124344792217016, '00:01']\n",
      "[36, 0.006554603576660156, 0.0031914706341922283, '00:01']\n",
      "[36, 0.006554603576660156, 0.0031914706341922283, '00:01']\n",
      "[37, 0.006659416947513819, 0.0019412355031818151, '00:01']\n",
      "[37, 0.006659416947513819, 0.0019412355031818151, '00:01']\n",
      "[38, 0.005118143279105425, 0.0024750479497015476, '00:01']\n",
      "[38, 0.005118143279105425, 0.0024750479497015476, '00:01']\n",
      "[39, 0.005137567408382893, 0.0109628327190876, '00:01']\n",
      "[39, 0.005137567408382893, 0.0109628327190876, '00:01']\n",
      "[40, 0.0038787685334682465, 0.004703946877270937, '00:01']\n",
      "[40, 0.0038787685334682465, 0.004703946877270937, '00:01']\n",
      "[41, 0.010136131197214127, 0.001554306480102241, '00:01']\n",
      "[41, 0.010136131197214127, 0.001554306480102241, '00:01']\n",
      "[42, 0.004767196252942085, 0.0040956344455480576, '00:01']\n",
      "[42, 0.004767196252942085, 0.0040956344455480576, '00:01']\n",
      "[43, 0.004141522105783224, 0.006222175899893045, '00:01']\n",
      "[43, 0.004141522105783224, 0.006222175899893045, '00:01']\n",
      "[44, 0.004140418954193592, 0.0024581924080848694, '00:01']\n",
      "[44, 0.004140418954193592, 0.0024581924080848694, '00:01']\n",
      "[45, 0.0034499585162848234, 0.0033579757437109947, '00:01']\n",
      "[45, 0.0034499585162848234, 0.0033579757437109947, '00:01']\n",
      "[46, 0.0024973449762910604, 0.003933051135390997, '00:01']\n",
      "[46, 0.0024973449762910604, 0.003933051135390997, '00:01']\n",
      "[47, 0.0032125867437571287, 0.0014479446690529585, '00:01']\n",
      "[47, 0.0032125867437571287, 0.0014479446690529585, '00:01']\n",
      "[48, 0.002767385682091117, 0.0033881752751767635, '00:01']\n",
      "[48, 0.002767385682091117, 0.0033881752751767635, '00:01']\n",
      "[49, 0.002992363180965185, 0.005233291070908308, '00:01']\n",
      "[49, 0.002992363180965185, 0.005233291070908308, '00:01']\n",
      "[50, 0.0026536365039646626, 0.0034731775522232056, '00:01']\n",
      "[50, 0.0026536365039646626, 0.0034731775522232056, '00:01']\n",
      "[51, 0.0017822720110416412, 0.0007928067352622747, '00:01']\n",
      "[51, 0.0017822720110416412, 0.0007928067352622747, '00:01']\n",
      "[52, 0.0024991773534566164, 0.0005894397618249059, '00:01']\n",
      "[52, 0.0024991773534566164, 0.0005894397618249059, '00:01']\n",
      "[53, 0.0015008809277787805, 0.000541442830581218, '00:01']\n",
      "[53, 0.0015008809277787805, 0.000541442830581218, '00:01']\n",
      "[54, 0.0010802061296999454, 0.0006474493420682847, '00:01']\n",
      "[54, 0.0010802061296999454, 0.0006474493420682847, '00:01']\n",
      "[55, 0.001553592854179442, 0.0007296547992154956, '00:01']\n",
      "[55, 0.001553592854179442, 0.0007296547992154956, '00:01']\n",
      "[56, 0.0010032346472144127, 0.00044323233305476606, '00:01']\n",
      "[56, 0.0010032346472144127, 0.00044323233305476606, '00:01']\n",
      "[57, 0.0009663628879934549, 0.00036811476456932724, '00:01']\n",
      "[57, 0.0009663628879934549, 0.00036811476456932724, '00:01']\n",
      "[58, 0.0009322133264504373, 0.0006728122825734317, '00:01']\n",
      "[58, 0.0009322133264504373, 0.0006728122825734317, '00:01']\n",
      "[59, 0.0009970958344638348, 0.00042528609628789127, '00:01']\n",
      "[59, 0.0009970958344638348, 0.00042528609628789127, '00:01']\n",
      "[60, 0.0009345946600660682, 0.0005243418854661286, '00:01']\n",
      "[60, 0.0009345946600660682, 0.0005243418854661286, '00:01']\n",
      "[61, 0.000591780582908541, 0.00011040502431569621, '00:01']\n",
      "[61, 0.000591780582908541, 0.00011040502431569621, '00:01']\n",
      "[62, 0.0005659792223013937, 0.000433301116572693, '00:01']\n",
      "[62, 0.0005659792223013937, 0.000433301116572693, '00:01']\n",
      "[63, 0.0005055380752310157, 0.00017353643488604575, '00:01']\n",
      "[63, 0.0005055380752310157, 0.00017353643488604575, '00:01']\n",
      "[64, 0.0005388666759245098, 0.00044455344323068857, '00:01']\n",
      "[64, 0.0005388666759245098, 0.00044455344323068857, '00:01']\n",
      "[65, 0.0004003441135864705, 0.00017920683603733778, '00:01']\n",
      "[65, 0.0004003441135864705, 0.00017920683603733778, '00:01']\n",
      "[66, 0.0003343888383824378, 9.506967762717977e-05, '00:01']\n",
      "[66, 0.0003343888383824378, 9.506967762717977e-05, '00:01']\n",
      "[67, 0.0002353987074457109, 0.0006496201967820525, '00:01']\n",
      "[67, 0.0002353987074457109, 0.0006496201967820525, '00:01']\n",
      "[68, 0.00025332978111691773, 0.00018945637566503137, '00:01']\n",
      "[68, 0.00025332978111691773, 0.00018945637566503137, '00:01']\n",
      "[69, 0.00023549712204840034, 0.00024149556702468544, '00:01']\n",
      "[69, 0.00023549712204840034, 0.00024149556702468544, '00:01']\n",
      "[70, 0.00019138315110467374, 0.00014251490938477218, '00:01']\n",
      "[70, 0.00019138315110467374, 0.00014251490938477218, '00:01']\n",
      "[71, 0.00018273474415764213, 0.00016085935931187123, '00:01']\n",
      "[71, 0.00018273474415764213, 0.00016085935931187123, '00:01']\n",
      "[72, 0.0001379567984258756, 9.389495971845463e-05, '00:01']\n",
      "[72, 0.0001379567984258756, 9.389495971845463e-05, '00:01']\n",
      "[73, 0.00011806744441855699, 5.73927718505729e-05, '00:01']\n",
      "[73, 0.00011806744441855699, 5.73927718505729e-05, '00:01']\n",
      "[74, 0.000147369340993464, 4.7775738494237885e-05, '00:01']\n",
      "[74, 0.000147369340993464, 4.7775738494237885e-05, '00:01']\n",
      "[75, 7.270128116942942e-05, 4.1190749470843e-05, '00:01']\n",
      "[75, 7.270128116942942e-05, 4.1190749470843e-05, '00:01']\n",
      "[76, 6.774145003873855e-05, 5.964058800600469e-05, '00:01']\n",
      "[76, 6.774145003873855e-05, 5.964058800600469e-05, '00:01']\n",
      "[77, 7.127331627998501e-05, 5.110985875944607e-05, '00:01']\n",
      "[77, 7.127331627998501e-05, 5.110985875944607e-05, '00:01']\n",
      "[78, 4.5155415136832744e-05, 2.832951031450648e-05, '00:01']\n",
      "[78, 4.5155415136832744e-05, 2.832951031450648e-05, '00:01']\n",
      "[79, 4.968117718817666e-05, 3.6145738704362884e-05, '00:01']\n",
      "[79, 4.968117718817666e-05, 3.6145738704362884e-05, '00:01']\n",
      "[80, 3.3443666325183585e-05, 2.3782562493579462e-05, '00:01']\n",
      "[80, 3.3443666325183585e-05, 2.3782562493579462e-05, '00:01']\n",
      "[81, 2.3419062927132472e-05, 4.847605305258185e-05, '00:01']\n",
      "[81, 2.3419062927132472e-05, 4.847605305258185e-05, '00:01']\n",
      "[82, 2.6536823497735895e-05, 1.4112501048657577e-05, '00:01']\n",
      "[82, 2.6536823497735895e-05, 1.4112501048657577e-05, '00:01']\n",
      "[83, 2.0584568119375035e-05, 1.69469367392594e-05, '00:01']\n",
      "[83, 2.0584568119375035e-05, 1.69469367392594e-05, '00:01']\n",
      "[84, 1.8723851098911837e-05, 1.6836220311233774e-05, '00:01']\n",
      "[84, 1.8723851098911837e-05, 1.6836220311233774e-05, '00:01']\n",
      "[85, 1.502313716628123e-05, 1.6565476471441798e-05, '00:01']\n",
      "[85, 1.502313716628123e-05, 1.6565476471441798e-05, '00:01']\n",
      "[86, 1.413733116351068e-05, 1.0522195225348696e-05, '00:01']\n",
      "[86, 1.413733116351068e-05, 1.0522195225348696e-05, '00:01']\n",
      "[87, 1.1996396096947137e-05, 1.0639842003001831e-05, '00:01']\n",
      "[87, 1.1996396096947137e-05, 1.0639842003001831e-05, '00:01']\n",
      "[88, 1.1860071936098393e-05, 1.1855630873469636e-05, '00:01']\n",
      "[88, 1.1860071936098393e-05, 1.1855630873469636e-05, '00:01']\n",
      "[89, 1.1045522114727646e-05, 1.0642507731972728e-05, '00:01']\n",
      "[89, 1.1045522114727646e-05, 1.0642507731972728e-05, '00:01']\n",
      "[90, 1.0185718565480784e-05, 8.669034286867827e-06, '00:01']\n",
      "[90, 1.0185718565480784e-05, 8.669034286867827e-06, '00:01']\n",
      "[91, 8.81564301380422e-06, 8.533689651812892e-06, '00:01']\n",
      "[91, 8.81564301380422e-06, 8.533689651812892e-06, '00:01']\n",
      "[92, 8.093031283351593e-06, 7.911924512882251e-06, '00:01']\n",
      "[92, 8.093031283351593e-06, 7.911924512882251e-06, '00:01']\n",
      "[93, 8.069444447755814e-06, 9.58359942160314e-06, '00:01']\n",
      "[93, 8.069444447755814e-06, 9.58359942160314e-06, '00:01']\n",
      "[94, 7.652799467905425e-06, 7.638206625415478e-06, '00:01']\n",
      "[94, 7.652799467905425e-06, 7.638206625415478e-06, '00:01']\n",
      "[95, 7.486461072403472e-06, 7.63383195589995e-06, '00:01']\n",
      "[95, 7.486461072403472e-06, 7.63383195589995e-06, '00:01']\n",
      "[96, 7.197512331913458e-06, 7.644077413715422e-06, '00:01']\n",
      "[96, 7.197512331913458e-06, 7.644077413715422e-06, '00:01']\n",
      "[97, 7.023334092082223e-06, 7.357126378337853e-06, '00:01']\n",
      "[97, 7.023334092082223e-06, 7.357126378337853e-06, '00:01']\n",
      "[98, 6.8975245994806755e-06, 7.241642833832884e-06, '00:01']\n",
      "[98, 6.8975245994806755e-06, 7.241642833832884e-06, '00:01']\n",
      "[99, 6.8357066993485205e-06, 7.196255864982959e-06, '00:01']\n",
      "[99, 6.8357066993485205e-06, 7.196255864982959e-06, '00:01']\n",
      "Training took 126.98485400000004 seconds\n"
     ]
    }
   ],
   "source": [
    "import time\n",
    "\n",
    "start = time.perf_counter() # Starts timer\n",
    "learn.fit_one_cycle(100,lr_min)\n",
    "end = time.perf_counter() # Ends timer\n",
    "delta_t = end - start\n",
    "print('Training took', delta_t, 'seconds')"
   ]
  },
  {
   "cell_type": "markdown",
   "metadata": {},
   "source": [
    "Then we plot the loss as a function of batches and epochs to check if we reach a plateau."
   ]
  },
  {
   "cell_type": "code",
   "execution_count": 28,
   "metadata": {},
   "outputs": [
    {
     "data": {
      "image/png": "[encoded data removed]",
      "text/plain": [
       "<Figure size 432x288 with 1 Axes>"
      ]
     },
     "metadata": {
      "needs_background": "light"
     },
     "output_type": "display_data"
    }
   ],
   "source": [
    "recorder.plot_loss()"
   ]
  },
  {
   "cell_type": "markdown",
   "metadata": {},
   "source": [
    "Then we evaluate the MSE on this network - it should be of the order of 0.001 or less if all has gone well...if it has not trained as well (note the pesky 0-mass peak above...) then it's going to be a bit higher."
   ]
  },
  {
   "cell_type": "code",
   "execution_count": 29,
   "metadata": {},
   "outputs": [
    {
     "data": {
      "text/plain": [
       "(#1) [7.196255864982959e-06]"
      ]
     },
     "execution_count": 29,
     "metadata": {},
     "output_type": "execute_result"
    }
   ],
   "source": [
    "learn.validate()"
   ]
  },
  {
   "cell_type": "markdown",
   "metadata": {},
   "source": [
    "Let's plot all of this, with ratios (thanks to code by Erik Wallin)"
   ]
  },
  {
   "cell_type": "markdown",
   "metadata": {},
   "source": [
    "## Plotting the outputs of the network"
   ]
  },
  {
   "cell_type": "markdown",
   "metadata": {},
   "source": [
    "Lazy-save of our output files (they'll also be on screen)"
   ]
  },
  {
   "cell_type": "code",
   "execution_count": 30,
   "metadata": {},
   "outputs": [],
   "source": [
    "import os\n",
    "save_dir = \"plotOutput\"\n",
    "if not os.path.exists(save_dir):\n",
    "    os.makedirs(save_dir)"
   ]
  },
  {
   "cell_type": "markdown",
   "metadata": {},
   "source": [
    "A function in case we want to un-normalize and get back to physical quantities..."
   ]
  },
  {
   "cell_type": "code",
   "execution_count": 32,
   "metadata": {},
   "outputs": [],
   "source": [
    "def custom_unnormalize(df):\n",
    "    df['eta'] = df['eta'] * 5\n",
    "    df['phi'] = df['phi'] * 3\n",
    "    df['E'] = 10**df['E']\n",
    "#     df['m'] = 10**df['m']\n",
    "    df['pt'] = 10**(df['pt'])\n",
    "    return df"
   ]
  },
  {
   "cell_type": "markdown",
   "metadata": {},
   "source": [
    "Make the histograms from the dataset..."
   ]
  },
  {
   "cell_type": "code",
   "execution_count": 81,
   "metadata": {
    "scrolled": true
   },
   "outputs": [
    {
     "data": {
      "image/png": "[encoded data removed]",
      "text/plain": [
       "<Figure size 432x288 with 1 Axes>"
      ]
     },
     "metadata": {
      "needs_background": "light"
     },
     "output_type": "display_data"
    },
    {
     "data": {
      "image/png": "[encoded data removed]",
      "text/plain": [
       "<Figure size 432x288 with 1 Axes>"
      ]
     },
     "metadata": {
      "needs_background": "light"
     },
     "output_type": "display_data"
    },
    {
     "data": {
      "image/png": "[encoded data removed]",
      "text/plain": [
       "<Figure size 432x288 with 1 Axes>"
      ]
     },
     "metadata": {
      "needs_background": "light"
     },
     "output_type": "display_data"
    },
    {
     "data": {
      "image/png": "[encoded data removed]",
      "text/plain": [
       "<Figure size 432x288 with 1 Axes>"
      ]
     },
     "metadata": {
      "needs_background": "light"
     },
     "output_type": "display_data"
    }
   ],
   "source": [
    "import numpy as np\n",
    "\n",
    "plt.close('all')\n",
    "unit_list = ['[GeV]', '[rad]', '[rad]', '[GeV]']\n",
    "variable_list = [r'$p_T$', r'$\\eta$', r'$\\phi$', r'$E$']\n",
    "line_style = ['--', '-']\n",
    "colors = ['orange', 'c']\n",
    "markers = ['*', 's']\n",
    "\n",
    "model.to('cpu')\n",
    "\n",
    "save = True # Option to save figure\n",
    "\n",
    "# Histograms\n",
    "idxs = (0, 4533)  # Choose events to compare\n",
    "data = torch.tensor(test[idxs[0]:idxs[1]].values, dtype=torch.float)\n",
    "#data = torch.tensor(test[idxs[0]:idxs[1]].values, dtype=torch.float).double()\n",
    "pred = model(data)\n",
    "pred = pred.detach().numpy()\n",
    "data = data.detach().numpy()\n",
    "\n",
    "data_df = pd.DataFrame(data, columns=test.columns)\n",
    "pred_df = pd.DataFrame(pred, columns=test.columns)\n",
    "\n",
    "unnormalized_data_df = custom_unnormalize(data_df)\n",
    "unnormalizedpred_df = custom_unnormalize(pred_df)    \n",
    "    \n",
    "alph = 0.8\n",
    "n_bins = 200\n",
    "for kk in np.arange(4):\n",
    "    plt.figure()\n",
    "    n_hist_data, bin_edges, _ = plt.hist(data[:, kk], color=colors[1], label='Input', alpha=1, bins=n_bins)\n",
    "    n_hist_pred, _, _ = plt.hist(pred[:, kk], color=colors[0], label='Output', alpha=alph, bins=bin_edges)\n",
    "    \n",
    "    #plt.suptitle(test.columns[kk])\n",
    "    plt.xlabel(test.columns[kk])\n",
    "    plt.ylabel('Number of jets')\n",
    "    # ms.sciy()\n",
    "    plt.yscale('log')\n",
    "    if save:\n",
    "        plt.savefig(os.path.join(save_dir,test.columns[kk]+'.png'))\n",
    "    plt.legend()"
   ]
  },
  {
   "cell_type": "code",
   "execution_count": 105,
   "metadata": {},
   "outputs": [
    {
     "name": "stdout",
     "output_type": "stream",
     "text": [
      "E:\n",
      "0.28720369911300303\n",
      "pt:\n",
      "0.20563851038282943\n",
      "eta:\n",
      "0.16994407418421492\n",
      "phi:\n",
      "0.1083710270566394\n"
     ]
    },
    {
     "data": {
      "image/png": "[encoded data removed]",
      "text/plain": [
       "<Figure size 432x288 with 1 Axes>"
      ]
     },
     "metadata": {
      "needs_background": "light"
     },
     "output_type": "display_data"
    }
   ],
   "source": [
    "#Calculating mean relative reconstruction error for each compressed variable\n",
    "def getError(bin1,bin2):\n",
    "    bins = []\n",
    "    sum=0\n",
    "    for b1,b2 in zip(bin1,bin2):\n",
    "        if b1==0 and b2==0:\n",
    "            bins.append(0.)\n",
    "        elif b1==0:\n",
    "            bins.append(None)\n",
    "        else:\n",
    "            if float(b2)>float(b1):\n",
    "                bins.append((float(b2)-float(b1))/b1)\n",
    "                sum=sum+(float(b2)-float(b1))/b1\n",
    "            else:\n",
    "                bins.append((float(b1)-float(b2))/b1)\n",
    "                sum=sum+(float(b1)-float(b2))/b1\n",
    "    avg=sum/200\n",
    "    return avg   \n",
    "\n",
    "\n",
    "n_hist_data, bin_edges, _ = plt.hist(unnormalized_data_df['E'].to_list(), color=colors[1], label='Input', alpha=1, bins=n_bins)\n",
    "n_hist_pred, _, _ = plt.hist(unnormalized_pred_df['E'].to_list(), color=colors[0], label='Output', alpha=alph, bins=bin_edges)\n",
    "rat = getError(n_hist_data,n_hist_pred)\n",
    "print(\"E:\")\n",
    "print(rat)\n",
    "\n",
    "n_hist_data, bin_edges, _ = plt.hist(unnormalized_data_df['pt'].to_list(), color=colors[1], label='Input', alpha=1, bins=n_bins)\n",
    "n_hist_pred, _, _ = plt.hist(unnormalized_pred_df['pt'].to_list(), color=colors[0], label='Output', alpha=alph, bins=bin_edges)\n",
    "rat = getError(n_hist_data,n_hist_pred)\n",
    "print(\"pt:\")\n",
    "print(rat)\n",
    "\n",
    "n_hist_data, bin_edges, _ = plt.hist(unnormalized_data_df['eta'].to_list(), color=colors[1], label='Input', alpha=1, bins=n_bins)\n",
    "n_hist_pred, _, _ = plt.hist(unnormalized_pred_df['eta'].to_list(), color=colors[0], label='Output', alpha=alph, bins=bin_edges)\n",
    "rat = getError(n_hist_data,n_hist_pred)\n",
    "print(\"eta:\")\n",
    "print(rat)\n",
    "\n",
    "n_hist_data, bin_edges, _ = plt.hist(unnormalized_data_df['phi'].to_list(), color=colors[1], label='Input', alpha=1, bins=n_bins)\n",
    "n_hist_pred, _, _ = plt.hist(unnormalized_pred_df['phi'].to_list(), color=colors[0], label='Output', alpha=alph, bins=bin_edges)\n",
    "rat = getError(n_hist_data,n_hist_pred)\n",
    "print(\"phi:\")\n",
    "print(rat)"
   ]
  },
  {
   "cell_type": "code",
   "execution_count": null,
   "metadata": {},
   "outputs": [],
   "source": []
  }
 ],
 "metadata": {
  "kernelspec": {
   "display_name": "gsoc_cern",
   "language": "python",
   "name": "gsoc_cern"
  },
  "language_info": {
   "codemirror_mode": {
    "name": "ipython",
    "version": 3
   },
   "file_extension": ".py",
   "mimetype": "text/x-python",
   "name": "python",
   "nbconvert_exporter": "python",
   "pygments_lexer": "ipython3",
   "version": "3.8.8"
  }
 },
 "nbformat": 4,
 "nbformat_minor": 4
}
